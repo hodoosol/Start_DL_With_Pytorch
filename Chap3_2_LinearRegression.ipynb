{
  "nbformat": 4,
  "nbformat_minor": 0,
  "metadata": {
    "colab": {
      "name": "210417_선형회귀_2.ipynb",
      "provenance": [],
      "authorship_tag": "ABX9TyPSCZbQ8kO08vxm+jd0EfI7",
      "include_colab_link": true
    },
    "kernelspec": {
      "name": "python3",
      "display_name": "Python 3"
    },
    "language_info": {
      "name": "python"
    }
  },
  "cells": [
    {
      "cell_type": "markdown",
      "metadata": {
        "id": "view-in-github",
        "colab_type": "text"
      },
      "source": [
        "<a href=\"https://colab.research.google.com/github/hodoosol/Start_DL_With_Pytorch/blob/main/Chap3_2_LinearRegression.ipynb\" target=\"_parent\"><img src=\"https://colab.research.google.com/assets/colab-badge.svg\" alt=\"Open In Colab\"/></a>"
      ]
    },
    {
      "cell_type": "markdown",
      "metadata": {
        "id": "95OnlNHuyljC"
      },
      "source": [
        "# 5. 클래스로 파이토치 모델 구현하기"
      ]
    },
    {
      "cell_type": "code",
      "metadata": {
        "id": "GzpeRlZyFtJn"
      },
      "source": [
        "import torch\n",
        "import torch.nn as nn\n",
        "import torch.nn.functional as F"
      ],
      "execution_count": 3,
      "outputs": []
    },
    {
      "cell_type": "code",
      "metadata": {
        "id": "U5CTjkLiyg28"
      },
      "source": [
        "# 단순 선형 회귀 모델은 model = nn.Linear(1, 1)로 구현했었다.\n",
        "# 동일 모델을 클래스로 구현해보자.\n",
        "\n",
        "# torch.nn.Module을 상속받는 파이썬 클래스\n",
        "class LinearRegressionModel(nn.Module) :\n",
        "  def __init__(self) :\n",
        "    super().__init__()\n",
        "    # 단순 선형 회귀이므로 input_dim = 1, output_dim = 1\n",
        "    self.linear = nn.Linear(1, 1)\n",
        "\n",
        "  def forward(self, x) :\n",
        "    return self.linear(x)"
      ],
      "execution_count": 4,
      "outputs": []
    },
    {
      "cell_type": "code",
      "metadata": {
        "id": "NQe9dkeAzEac"
      },
      "source": [
        "model = LinearRegressionModel()"
      ],
      "execution_count": 5,
      "outputs": []
    },
    {
      "cell_type": "code",
      "metadata": {
        "id": "8sZH1ad2zKZO"
      },
      "source": [
        "# 다중 선형 회귀 모델은 model == nn.Linear(3, 1)로 구현했었다.\n",
        "# 동일 모델을 클래스로 구현해보자.\n",
        "\n",
        "class MultivariateLinearRegressionModel(nn.Module) :\n",
        "  def __init__(self) :\n",
        "    super().__init__()\n",
        "    self.linear = nn.Linear(3, 1)\n",
        "\n",
        "  def forward(self, x) :\n",
        "    return self.linear(x)"
      ],
      "execution_count": 6,
      "outputs": []
    },
    {
      "cell_type": "code",
      "metadata": {
        "id": "08ZxD1Ia0JoP"
      },
      "source": [
        "model = MultivariateLinearRegressionModel()"
      ],
      "execution_count": 7,
      "outputs": []
    },
    {
      "cell_type": "markdown",
      "metadata": {
        "id": "0YRosJzt0UrY"
      },
      "source": [
        "# 6. 미니 배치와 데이터 로드"
      ]
    },
    {
      "cell_type": "markdown",
      "metadata": {
        "id": "3NLKYrab9WH6"
      },
      "source": [
        "데이터가 굉장히 많을 때, 예를 들어 수십만개 이상이라면 전체 데이터에 대해서\n",
        "\n",
        "경사 하강법을 수행하는 것은 매우 느릴 뿐만 아니라 많은 계산량이 필요하다. \n",
        "\n",
        "어쩌면 메모리의 한계로 불가능할 수도.\n",
        "\n",
        "이 문제를 해결하기 위해 전체 데이터를 더 작은 단위로 나누어서 학습하는 미니 배치를 사용할 수 있다."
      ]
    },
    {
      "cell_type": "code",
      "metadata": {
        "id": "ov0R-O9h0LUT"
      },
      "source": [
        "import torch\n",
        "import torch.nn as nn\n",
        "import torch.nn.functional as F"
      ],
      "execution_count": 8,
      "outputs": []
    },
    {
      "cell_type": "code",
      "metadata": {
        "id": "8Pl923tQ-Rjf"
      },
      "source": [
        "from torch.utils.data import TensorDataset # 텐서데이터셋\n",
        "from torch.utils.data import DataLoader # 데이터로더"
      ],
      "execution_count": 9,
      "outputs": []
    },
    {
      "cell_type": "code",
      "metadata": {
        "id": "lHTQSJOt-Tvt"
      },
      "source": [
        "# 데이터 입력\n",
        "x_train  =  torch.FloatTensor([[73,  80,  75], \n",
        "                               [93,  88,  93], \n",
        "                               [89,  91,  90], \n",
        "                               [96,  98,  100],   \n",
        "                               [73,  66,  70]])  \n",
        "y_train  =  torch.FloatTensor([[152],  [185],  [180],  [196],  [142]])"
      ],
      "execution_count": 10,
      "outputs": []
    },
    {
      "cell_type": "code",
      "metadata": {
        "id": "qhsG4n9k-ZKr"
      },
      "source": [
        "# 위의 데이터를 TensorDataset의 입력으로 사용하기 위해 dataset에 저장하자.\n",
        "dataset = TensorDataset(x_train, y_train)"
      ],
      "execution_count": 11,
      "outputs": []
    },
    {
      "cell_type": "markdown",
      "metadata": {
        "id": "91RMjzy3-tcL"
      },
      "source": [
        "이제 파이토치의 데이터 세트를 만들었기 때문에 데이터 로더를 사용할 수 있다.\n",
        "\n",
        "데이터 로더는 기본적으로 데이터셋, 미니 배치의 크기 - > 2개의 인자를 입력받는다."
      ]
    },
    {
      "cell_type": "code",
      "metadata": {
        "id": "xQAFk_iM-jUN"
      },
      "source": [
        "dataloader = DataLoader(dataset, batch_size = 2, shuffle=True)"
      ],
      "execution_count": 12,
      "outputs": []
    },
    {
      "cell_type": "code",
      "metadata": {
        "id": "kseCmTUe-_UZ"
      },
      "source": [
        "# 모델과 옵티마이저를 설계한다.\n",
        "model = nn.Linear(3, 1)\n",
        "optimizer = torch.optim.SGD(model.parameters(), lr = 1e-5)"
      ],
      "execution_count": 13,
      "outputs": []
    },
    {
      "cell_type": "code",
      "metadata": {
        "colab": {
          "base_uri": "https://localhost:8080/"
        },
        "id": "FSS_X4sp_H3_",
        "outputId": "ebd43388-c8d3-48dd-c978-499e9b8b0ae1"
      },
      "source": [
        "# 훈련하기 !\n",
        "nb_epochs = 20\n",
        "\n",
        "for epoch in range(nb_epochs + 1) :\n",
        "  for batch_idx, samples in enumerate(dataloader) :\n",
        "    # print(batch_idx)\n",
        "    # print(samples)\n",
        "    x_train, y_train = samples\n",
        "    \n",
        "    # H(x) 계산\n",
        "    prediction = model(x_train)\n",
        "\n",
        "    # cost 계산\n",
        "    cost = F.mse_loss(prediction, y_train)\n",
        "\n",
        "    # cost로 H(x) 계산\n",
        "    optimizer.zero_grad()\n",
        "    cost.backward()\n",
        "    optimizer.step()\n",
        "\n",
        "    print('Epoch {:4d}/{} Batch {}/{} Cost: {:.6f}'.format(\n",
        "        epoch, nb_epochs, batch_idx+1, len(dataloader),\n",
        "        cost.item()\n",
        "        ))"
      ],
      "execution_count": 14,
      "outputs": [
        {
          "output_type": "stream",
          "text": [
            "Epoch    0/20 Batch 1/3 Cost: 37156.218750\n",
            "Epoch    0/20 Batch 2/3 Cost: 6291.195312\n",
            "Epoch    0/20 Batch 3/3 Cost: 1879.467163\n",
            "Epoch    1/20 Batch 1/3 Cost: 1253.135986\n",
            "Epoch    1/20 Batch 2/3 Cost: 173.614105\n",
            "Epoch    1/20 Batch 3/3 Cost: 154.539612\n",
            "Epoch    2/20 Batch 1/3 Cost: 25.659943\n",
            "Epoch    2/20 Batch 2/3 Cost: 8.694572\n",
            "Epoch    2/20 Batch 3/3 Cost: 0.074877\n",
            "Epoch    3/20 Batch 1/3 Cost: 2.925468\n",
            "Epoch    3/20 Batch 2/3 Cost: 0.955292\n",
            "Epoch    3/20 Batch 3/3 Cost: 0.228204\n",
            "Epoch    4/20 Batch 1/3 Cost: 1.444021\n",
            "Epoch    4/20 Batch 2/3 Cost: 0.403282\n",
            "Epoch    4/20 Batch 3/3 Cost: 0.102395\n",
            "Epoch    5/20 Batch 1/3 Cost: 0.394902\n",
            "Epoch    5/20 Batch 2/3 Cost: 0.632909\n",
            "Epoch    5/20 Batch 3/3 Cost: 1.879856\n",
            "Epoch    6/20 Batch 1/3 Cost: 0.554729\n",
            "Epoch    6/20 Batch 2/3 Cost: 0.994143\n",
            "Epoch    6/20 Batch 3/3 Cost: 1.519804\n",
            "Epoch    7/20 Batch 1/3 Cost: 0.269030\n",
            "Epoch    7/20 Batch 2/3 Cost: 1.417838\n",
            "Epoch    7/20 Batch 3/3 Cost: 0.637517\n",
            "Epoch    8/20 Batch 1/3 Cost: 0.955584\n",
            "Epoch    8/20 Batch 2/3 Cost: 0.851914\n",
            "Epoch    8/20 Batch 3/3 Cost: 0.082222\n",
            "Epoch    9/20 Batch 1/3 Cost: 1.266206\n",
            "Epoch    9/20 Batch 2/3 Cost: 0.391155\n",
            "Epoch    9/20 Batch 3/3 Cost: 0.025338\n",
            "Epoch   10/20 Batch 1/3 Cost: 1.269745\n",
            "Epoch   10/20 Batch 2/3 Cost: 0.393560\n",
            "Epoch   10/20 Batch 3/3 Cost: 0.019758\n",
            "Epoch   11/20 Batch 1/3 Cost: 0.986135\n",
            "Epoch   11/20 Batch 2/3 Cost: 1.252035\n",
            "Epoch   11/20 Batch 3/3 Cost: 0.229971\n",
            "Epoch   12/20 Batch 1/3 Cost: 1.490599\n",
            "Epoch   12/20 Batch 2/3 Cost: 1.185779\n",
            "Epoch   12/20 Batch 3/3 Cost: 0.018108\n",
            "Epoch   13/20 Batch 1/3 Cost: 0.426184\n",
            "Epoch   13/20 Batch 2/3 Cost: 1.272568\n",
            "Epoch   13/20 Batch 3/3 Cost: 0.007333\n",
            "Epoch   14/20 Batch 1/3 Cost: 0.269908\n",
            "Epoch   14/20 Batch 2/3 Cost: 1.263677\n",
            "Epoch   14/20 Batch 3/3 Cost: 0.367683\n",
            "Epoch   15/20 Batch 1/3 Cost: 0.750615\n",
            "Epoch   15/20 Batch 2/3 Cost: 0.977241\n",
            "Epoch   15/20 Batch 3/3 Cost: 0.459283\n",
            "Epoch   16/20 Batch 1/3 Cost: 1.102013\n",
            "Epoch   16/20 Batch 2/3 Cost: 1.168737\n",
            "Epoch   16/20 Batch 3/3 Cost: 0.213943\n",
            "Epoch   17/20 Batch 1/3 Cost: 0.488788\n",
            "Epoch   17/20 Batch 2/3 Cost: 1.301754\n",
            "Epoch   17/20 Batch 3/3 Cost: 0.000836\n",
            "Epoch   18/20 Batch 1/3 Cost: 0.781058\n",
            "Epoch   18/20 Batch 2/3 Cost: 1.104981\n",
            "Epoch   18/20 Batch 3/3 Cost: 0.776209\n",
            "Epoch   19/20 Batch 1/3 Cost: 0.193332\n",
            "Epoch   19/20 Batch 2/3 Cost: 1.277211\n",
            "Epoch   19/20 Batch 3/3 Cost: 0.411183\n",
            "Epoch   20/20 Batch 1/3 Cost: 0.545027\n",
            "Epoch   20/20 Batch 2/3 Cost: 1.865314\n",
            "Epoch   20/20 Batch 3/3 Cost: 0.076725\n"
          ],
          "name": "stdout"
        }
      ]
    },
    {
      "cell_type": "code",
      "metadata": {
        "colab": {
          "base_uri": "https://localhost:8080/"
        },
        "id": "Cq7cqY2OAJMR",
        "outputId": "c1de3a56-52b5-4962-e6a1-0b0b1f5a7e4b"
      },
      "source": [
        "# 모델 테스트\n",
        "\n",
        "# 임의의 입력 [73, 80, 75]를 선언\n",
        "new_var =  torch.FloatTensor([[73, 80, 75]]) \n",
        "# 입력한 값 [73, 80, 75]에 대해서 예측값 y를 리턴받아서 pred_y에 저장\n",
        "pred_y = model(new_var) \n",
        "print(\"훈련 후 입력이 73, 80, 75일 때의 예측값 :\", pred_y) "
      ],
      "execution_count": 15,
      "outputs": [
        {
          "output_type": "stream",
          "text": [
            "훈련 후 입력이 73, 80, 75일 때의 예측값 : tensor([[152.6661]], grad_fn=<AddmmBackward>)\n"
          ],
          "name": "stdout"
        }
      ]
    },
    {
      "cell_type": "markdown",
      "metadata": {
        "id": "krx4etabA3l0"
      },
      "source": [
        "# 7. 커스텀 데이터셋"
      ]
    },
    {
      "cell_type": "markdown",
      "metadata": {
        "id": "t4llRK58Bj44"
      },
      "source": [
        "커스텀 데이터셋을 만들 때, 가장 기본적인 뼈대는"
      ]
    },
    {
      "cell_type": "code",
      "metadata": {
        "id": "oz_Fz85-A1WT"
      },
      "source": [
        "# class CustomDataset(torch.utils.data.Dataset) :\n",
        "#   def __init__(self) :\n",
        "#     데이터셋의 전처리를 해준다.\n",
        "  \n",
        "#   def __len__(self) :\n",
        "#     데이터셋의 길이. 즉, 총 샘플의 수를 적어주는 부분.\n",
        "\n",
        "#   def __getitem__(self, idx) :\n",
        "#     데이터셋에서 특정 1개의 샘플을 가져오는 함수이다."
      ],
      "execution_count": 16,
      "outputs": []
    },
    {
      "cell_type": "markdown",
      "metadata": {
        "id": "HAEWXQKGCNco"
      },
      "source": [
        "커스텀 데이터셋으로 선형 회귀 구현하기"
      ]
    },
    {
      "cell_type": "code",
      "metadata": {
        "id": "CugFmJzvB_vn"
      },
      "source": [
        "import torch\n",
        "import torch.nn.functional as F\n",
        "\n",
        "from torch.utils.data import Dataset\n",
        "from torch.utils.data import DataLoader"
      ],
      "execution_count": 17,
      "outputs": []
    },
    {
      "cell_type": "code",
      "metadata": {
        "id": "0cBD72WoCSCY"
      },
      "source": [
        "# 데이터셋 상속\n",
        "class CustomDataset(Dataset) :\n",
        "  def __init__(self) :\n",
        "    self.x_data = [[73, 80, 75],\n",
        "                   [93, 88, 93],\n",
        "                   [89, 91, 90],\n",
        "                   [96, 98, 100],\n",
        "                   [73, 66, 70]]\n",
        "    self.y_data = [[152], [185], [180], [196], [142]]\n",
        "\n",
        "  # 총 데이터의 개수를 리턴\n",
        "  def __len__(self) :\n",
        "    return len(self.x_data)\n",
        "\n",
        "  # 인덱스를 입력받아 그에 맵핑되는 입출력 데이터를 파이토치의 Tensor 형태로 리턴\n",
        "  def __getitem__(self, idx) :\n",
        "    x = torch.FloatTensor(self.x_data[idx])\n",
        "    y = torch.FloatTensor(self.y_data[idx])\n",
        "    return x, y\n",
        "  "
      ],
      "execution_count": 18,
      "outputs": []
    },
    {
      "cell_type": "code",
      "metadata": {
        "id": "XXKSnm6FDCTu"
      },
      "source": [
        "dataset = CustomDataset()\n",
        "dataloader = DataLoader(dataset, batch_size = 2, shuffle = True)"
      ],
      "execution_count": 19,
      "outputs": []
    },
    {
      "cell_type": "code",
      "metadata": {
        "id": "lx4xtuK9DIpD"
      },
      "source": [
        "model = torch.nn.Linear(3, 1)\n",
        "optimizer = torch.optim.SGD(model.parameters(), lr = 1e-5)"
      ],
      "execution_count": 20,
      "outputs": []
    },
    {
      "cell_type": "code",
      "metadata": {
        "colab": {
          "base_uri": "https://localhost:8080/"
        },
        "id": "4S6Poj00DO1Q",
        "outputId": "56d1e7f0-668c-4b35-832e-209a8bbdecfc"
      },
      "source": [
        "# 학습 시작\n",
        "\n",
        "nb_epochs = 20\n",
        "\n",
        "for epoch in range(nb_epochs + 1) :\n",
        "  x_train, y_train = samples\n",
        "\n",
        "  prediction = model(x_train)\n",
        "\n",
        "  cost = F.mse_loss(prediction, y_train)\n",
        "\n",
        "  optimizer.zero_grad()\n",
        "  cost.backward()\n",
        "  optimizer.step()\n",
        "\n",
        "  print('Epoch {:4d}/{} Batch {}/{} Cost: {:.6f}'.format(\n",
        "        epoch, nb_epochs, batch_idx+1, len(dataloader),\n",
        "        cost.item()\n",
        "        ))"
      ],
      "execution_count": 21,
      "outputs": [
        {
          "output_type": "stream",
          "text": [
            "Epoch    0/20 Batch 3/3 Cost: 22020.945312\n",
            "Epoch    1/20 Batch 3/3 Cost: 3950.999756\n",
            "Epoch    2/20 Batch 3/3 Cost: 708.889832\n",
            "Epoch    3/20 Batch 3/3 Cost: 127.188805\n",
            "Epoch    4/20 Batch 3/3 Cost: 22.819952\n",
            "Epoch    5/20 Batch 3/3 Cost: 4.094423\n",
            "Epoch    6/20 Batch 3/3 Cost: 0.734623\n",
            "Epoch    7/20 Batch 3/3 Cost: 0.131807\n",
            "Epoch    8/20 Batch 3/3 Cost: 0.023652\n",
            "Epoch    9/20 Batch 3/3 Cost: 0.004241\n",
            "Epoch   10/20 Batch 3/3 Cost: 0.000761\n",
            "Epoch   11/20 Batch 3/3 Cost: 0.000137\n",
            "Epoch   12/20 Batch 3/3 Cost: 0.000025\n",
            "Epoch   13/20 Batch 3/3 Cost: 0.000004\n",
            "Epoch   14/20 Batch 3/3 Cost: 0.000001\n",
            "Epoch   15/20 Batch 3/3 Cost: 0.000000\n",
            "Epoch   16/20 Batch 3/3 Cost: 0.000000\n",
            "Epoch   17/20 Batch 3/3 Cost: 0.000000\n",
            "Epoch   18/20 Batch 3/3 Cost: 0.000000\n",
            "Epoch   19/20 Batch 3/3 Cost: 0.000000\n",
            "Epoch   20/20 Batch 3/3 Cost: 0.000000\n"
          ],
          "name": "stdout"
        }
      ]
    },
    {
      "cell_type": "code",
      "metadata": {
        "colab": {
          "base_uri": "https://localhost:8080/"
        },
        "id": "iBCK4M8FDt5L",
        "outputId": "1ea374b5-a995-469a-b0b4-dad1d9503e49"
      },
      "source": [
        "# 모델 테스트\n",
        "\n",
        "# 임의의 입력 [73, 80, 75]를 선언\n",
        "new_var =  torch.FloatTensor([[73, 80, 75]]) \n",
        "# 입력한 값 [73, 80, 75]에 대해서 예측값 y를 리턴받아서 pred_y에 저장\n",
        "pred_y = model(new_var) \n",
        "print(\"훈련 후 입력이 73, 80, 75일 때의 예측값 :\", pred_y)"
      ],
      "execution_count": 22,
      "outputs": [
        {
          "output_type": "stream",
          "text": [
            "훈련 후 입력이 73, 80, 75일 때의 예측값 : tensor([[152.2844]], grad_fn=<AddmmBackward>)\n"
          ],
          "name": "stdout"
        }
      ]
    }
  ]
}